{
 "cells": [
  {
   "cell_type": "code",
   "execution_count": 1,
   "id": "760d1dc3-4a38-4538-bf11-aba889db58fc",
   "metadata": {},
   "outputs": [
    {
     "name": "stdout",
     "output_type": "stream",
     "text": [
      "hello, mahi\n"
     ]
    }
   ],
   "source": [
    "print(\"hello, mahi\")"
   ]
  },
  {
   "cell_type": "code",
   "execution_count": 3,
   "id": "1e101749-1f01-4eff-9dad-c7c8bfd99c30",
   "metadata": {},
   "outputs": [
    {
     "name": "stdout",
     "output_type": "stream",
     "text": [
      "[1 2 3]\n"
     ]
    }
   ],
   "source": [
    "import numpy as np\n",
    "arr_1d = np.array([1,2,3])\n",
    "print(arr_1d)"
   ]
  },
  {
   "cell_type": "code",
   "execution_count": 10,
   "id": "59294c3c-72d6-48dd-b064-6786a3b1243f",
   "metadata": {},
   "outputs": [
    {
     "name": "stdout",
     "output_type": "stream",
     "text": [
      "[[1 2 3]\n",
      " [4 5 6]]\n"
     ]
    }
   ],
   "source": [
    "arr_2d = np.array([[1,2,3],\n",
    "                   [4,5,6]])\n",
    "print(arr_2d)"
   ]
  },
  {
   "cell_type": "code",
   "execution_count": 15,
   "id": "b299bd0b-bae7-4545-8225-b6ec5aab464a",
   "metadata": {},
   "outputs": [
    {
     "name": "stdout",
     "output_type": "stream",
     "text": [
      "[[[1 2]\n",
      "  [3 4]]\n",
      "\n",
      " [[5 6]\n",
      "  [7 8]]]\n"
     ]
    }
   ],
   "source": [
    "arr_3d = np.array([\n",
    "                   [[1,2],[3,4]],\n",
    "                   [[5,6],[7,8]]\n",
    "                  ])\n",
    "print(arr_3d)"
   ]
  },
  {
   "cell_type": "code",
   "execution_count": 13,
   "id": "012957f7-ba1c-4060-8fa5-50b8b6a2a4d1",
   "metadata": {},
   "outputs": [
    {
     "name": "stdout",
     "output_type": "stream",
     "text": [
      "1\n",
      "2\n",
      "3\n"
     ]
    }
   ],
   "source": [
    "print(arr_1d.ndim)\n",
    "print(arr_2d.ndim)\n",
    "print(arr_3d.ndim)"
   ]
  },
  {
   "cell_type": "code",
   "execution_count": 23,
   "id": "808409a3-0211-48c1-9470-c194c0c570b3",
   "metadata": {},
   "outputs": [
    {
     "name": "stdout",
     "output_type": "stream",
     "text": [
      "[[0. 0.]\n",
      " [0. 0.]]\n",
      "---------\n",
      "[[0. 0. 0.]\n",
      " [0. 0. 0.]\n",
      " [0. 0. 0.]]\n",
      "---------\n",
      "[[0 0]\n",
      " [0 0]\n",
      " [0 0]]\n",
      "---------\n",
      "[[1. 1. 1.]\n",
      " [1. 1. 1.]\n",
      " [1. 1. 1.]]\n"
     ]
    }
   ],
   "source": [
    "#BUILT-IN\n",
    "#Array of zeroes\n",
    "zeros = np.zeros((2,2))\n",
    "print(zeros)\n",
    "print(\"---------\")\n",
    "#Array of zeroes\n",
    "zeros3= np.zeros((3,3))\n",
    "print(zeros3)\n",
    "print(\"---------\")\n",
    "zeroes_ = np.zeros((3,2),dtype=int)\n",
    "print(zeroes_)\n",
    "#Array of ones\n",
    "print(\"---------\")\n",
    "ones = np.ones((3,3))\n",
    "print(ones)"
   ]
  },
  {
   "cell_type": "code",
   "execution_count": 32,
   "id": "aba58458-4552-4ff1-b1e3-0ac8c74a3070",
   "metadata": {},
   "outputs": [
    {
     "name": "stdout",
     "output_type": "stream",
     "text": [
      "[[0.54874045 0.45800085]\n",
      " [0.41829821 0.37572504]]\n",
      "---------\n",
      "[[0.16559714 0.01198398]\n",
      " [0.16534588 0.51062778]]\n",
      "---------\n",
      "[[-316 -374]\n",
      " [ 482  128]\n",
      " [-173  184]]\n"
     ]
    }
   ],
   "source": [
    "#Array of random values\n",
    "rand_arr = np.random.rand(2,2)\n",
    "print(rand_arr)\n",
    "print(\"---------\")\n",
    "rand_arr2 = np.random.random((2,2))\n",
    "print(rand_arr2)\n",
    "print(\"---------\")\n",
    "rand_arr3 = np.random.randint(-500,500,(3,2))\n",
    "print(rand_arr3)"
   ]
  },
  {
   "cell_type": "code",
   "execution_count": null,
   "id": "a2ff288a-0c0f-4eda-86de-d757b24a82fe",
   "metadata": {},
   "outputs": [],
   "source": [
    "#Array with a range of values\n"
   ]
  },
  {
   "cell_type": "code",
   "execution_count": 36,
   "id": "a0eb1ebc-8625-4a09-9fb7-d5b4ebada06a",
   "metadata": {},
   "outputs": [
    {
     "name": "stdout",
     "output_type": "stream",
     "text": [
      "Shape: (2, 3)\n",
      "Size: 6\n",
      "Data Type: int64\n",
      "Number of dimensions: 2\n"
     ]
    }
   ],
   "source": [
    "#Array attributes\n",
    "arr = np.array([\n",
    "                [1,2,3],\n",
    "                [4,5,6]\n",
    "])\n",
    "print(\"Shape:\",arr.shape)\n",
    "print(\"Size:\",arr.size)\n",
    "print(\"Data Type:\",arr.dtype)\n",
    "print(\"Number of dimensions:\",arr.ndim)"
   ]
  },
  {
   "cell_type": "markdown",
   "id": "65d32958-2f00-49f3-ad0f-69c2e05b5472",
   "metadata": {},
   "source": [
    "# **TASK-1**\n",
    "You are working as a Data Engineer for a smart agriculture startup that collects sensor data from multiple greenhouses.\n",
    "Each greenhouse has sensors that record temperature (°C) readings at different times of the day.\n",
    "You received the following data:\n",
    "Your tasks are:<br>\n",
    "**1.Create NumPy arrays**<br>\n",
    "Create a 2D NumPy array named temp_data to represent the temperature readings from both greenhouses.\n",
    "Print the array.<br>\n",
    "**2.Check array properties**<br>\n",
    "Print the shape, size, data type, and number of dimensions of temp_data.<br>\n",
    "**3.Add a third greenhouse**<br>\n",
    "The third greenhouse (GH3) records [21, 23, 22].<br>\n",
    "Create a new array updated_temp_data that includes all three greenhouses.<br>\n",
    "**4.Generate supporting data**<br>\n",
    "Create a zeros array (2×3) called sensor_error_flags to represent whether there were any sensor errors (0 means no error).<br>\n",
    "Create an identity matrix of size 3×3 named greenhouse_identity to uniquely identify each greenhouse.<br>\n",
    "**5.Display all arrays**<br>\n",
    "Print updated_temp_data, sensor_error_flags, and greenhouse_identity."
   ]
  },
  {
   "cell_type": "code",
   "execution_count": 48,
   "id": "26c6c1a8-926a-477d-b74a-d9bd77c07cb4",
   "metadata": {},
   "outputs": [
    {
     "name": "stdout",
     "output_type": "stream",
     "text": [
      "Temperatures of green house gases: \n",
      "[[22 25 20]\n",
      " [24 26 23]]\n",
      "-------------------------------------\n",
      "Properties of Temperature array: \n",
      "Shape: (2, 3)\n",
      "Size: 6\n",
      "Data Type: int64\n",
      "Number of dimensions: 2\n",
      "-------------------------------------\n",
      "Updated temperatures: [[22 25 20]\n",
      " [24 26 23]\n",
      " [21 23 22]]\n",
      "-------------------------------------\n",
      "sensor error flags: [[0. 0. 0.]\n",
      " [0. 0. 0.]]\n",
      "Greenhouse identity: [[1 1 1]\n",
      " [1 1 1]\n",
      " [1 1 1]]\n"
     ]
    }
   ],
   "source": [
    "temp_data = np.array([\n",
    "                    [22,25,20],\n",
    "                    [24,26,23],\n",
    "])\n",
    "print(\"Temperatures of green house gases: \")\n",
    "print(temp_data)\n",
    "print(\"-------------------------------------\")\n",
    "print(\"Properties of Temperature array: \")\n",
    "print(\"Shape:\",temp_data.shape)\n",
    "print(\"Size:\",temp_data.size)\n",
    "print(\"Data Type:\",temp_data.dtype)\n",
    "print(\"Number of dimensions:\",temp_data.ndim)\n",
    "print(\"-------------------------------------\")\n",
    "updated_temp_arr = np.array([\n",
    "                            [22,25,20],\n",
    "                            [24,26,23],\n",
    "                            [21, 23, 22]\n",
    "])\n",
    "print(\"Updated temperatures:\",updated_temp_arr)\n",
    "print(\"-------------------------------------\")\n",
    "sensor_error_flags = np.zeros((2,3))\n",
    "print(\"sensor error flags:\",sensor_error_flags)\n",
    "greenhouse_identity = np.ones((3,3),dtype=int)\n",
    "print(\"Greenhouse identity:\",greenhouse_identity)\n"
   ]
  },
  {
   "cell_type": "markdown",
   "id": "d191367d-8075-43c8-9a33-b84a750b5cc7",
   "metadata": {},
   "source": [
    "**INDEXING AND SLICING**"
   ]
  },
  {
   "cell_type": "code",
   "execution_count": 52,
   "id": "9bdccc9d-83bd-435d-9b98-9148536c79fe",
   "metadata": {},
   "outputs": [
    {
     "name": "stdout",
     "output_type": "stream",
     "text": [
      "ele at index 1:  50\n",
      "ele at 1st row and 2nd col is:  2\n",
      "4\n"
     ]
    }
   ],
   "source": [
    "arr1 = np.array([40,50,80,60])\n",
    "print(\"ele at index 1: \",arr1[1])\n",
    "arr2 = np.array([\n",
    "    [1,2,3],\n",
    "    [4,5,6]\n",
    "])\n",
    "print(\"ele at 1st row and 2nd col is: \",arr2[0,1])\n",
    "arr3 = np.array([\n",
    "    [[1,2],[3,4]],\n",
    "    [[5,6],[7,8]]\n",
    "                ])\n",
    "print(arr3[0,1,1])"
   ]
  },
  {
   "cell_type": "code",
   "execution_count": 53,
   "id": "5e03794d-4436-45f1-b1bc-7fb6911cdbef",
   "metadata": {},
   "outputs": [
    {
     "name": "stdout",
     "output_type": "stream",
     "text": [
      "[50 80]\n"
     ]
    }
   ],
   "source": [
    "print(arr1[1:3])"
   ]
  },
  {
   "cell_type": "markdown",
   "id": "d5d75cff-5fa3-4776-b4e2-0ce3fcf5c6ee",
   "metadata": {},
   "source": [
    "# **TASK-2**\n",
    "\n",
    "You are working as a **Data Analyst** at a fruit distribution company.<br>\n",
    "The company stores the number of fruit boxes shipped per day (for 1 week) in a 2D NumPy array where:<br>\n",
    "Each **row** represents a type of fruit.<br>\n",
    "Each **column** represents a day of the week (Mon–Sun).<br>\n",
    "![Fruit Shipments](C:\\Users\\DELL\\ss.png)<br>\n",
    "Your Tasks<br>\n",
    "**1.Create the 2D NumPy array**<br>\n",
    "Create an array named shipments using the above data.<br>\n",
    "**2.Access single elements (Indexing):**<br>\n",
    "Get the number of Apples shipped on Wednesday.<br>\n",
    "Get the number of Oranges shipped on Sunday.<br>\n",
    "**3.Access multiple elements (Slicing):**<br>\n",
    "Extract all the weekday shipments (Mon–Fri) for all fruits.<br>\n",
    "Extract only the weekend shipments (Sat & Sun).<br>\n",
    "Extract the shipments of Apples from Wednesday to Saturday.<br>\n",
    "**4.Bonus (Practice thinking):**<br>\n",
    "Replace the Saturday shipment of Apples (currently 80) with 100 using indexing.<br>"
   ]
  },
  {
   "cell_type": "code",
   "execution_count": 59,
   "id": "d5b5db11-5093-4824-99eb-25081755f1ef",
   "metadata": {},
   "outputs": [
    {
     "name": "stdout",
     "output_type": "stream",
     "text": [
      "Apples on Wednesday: 60\n",
      "Oranges on Sunday: 75\n",
      "Weekday shipments:\n",
      " [[50 55 60 70 65]\n",
      " [40 42 45 50 48]]\n",
      "Weekend shipments:\n",
      " [[80 90]\n",
      " [60 75]]\n",
      "Apples from Wed to Sat: [60 70 65 80]\n",
      "Updated shipments:\n",
      " [[ 50  55  60  70  65 100  90]\n",
      " [ 40  42  45  50  48  60  75]]\n"
     ]
    }
   ],
   "source": [
    "shipments = np.array([\n",
    "      [50, 55, 60, 70, 65, 80, 90],  # Apples\n",
    "    [40, 42, 45, 50, 48, 60, 75], #oranges\n",
    "])\n",
    "                     \n",
    "apples_wed = shipments[0, 2]\n",
    "print(\"Apples on Wednesday:\", apples_wed)\n",
    "\n",
    "oranges_sun = shipments[1, 6]\n",
    "print(\"Oranges on Sunday:\", oranges_sun)\n",
    "\n",
    "weekdays = shipments[:, 0:5]\n",
    "print(\"Weekday shipments:\\n\", weekdays)\n",
    "\n",
    "weekend = shipments[:, 5:7]\n",
    "print(\"Weekend shipments:\\n\", weekend)\n",
    "\n",
    "apples_wed_sat = shipments[0, 2:6]\n",
    "print(\"Apples from Wed to Sat:\", apples_wed_sat)\n",
    "\n",
    "shipments[0, 5] = 100\n",
    "print(\"Updated shipments:\\n\", shipments)\n"
   ]
  },
  {
   "cell_type": "markdown",
   "id": "e7796382-ceda-4ddf-9edd-5c611a81a189",
   "metadata": {},
   "source": [
    "**OPERATIONS**"
   ]
  },
  {
   "cell_type": "code",
   "execution_count": 61,
   "id": "92d3a305-bb57-4362-ae4e-4abaf3bb5cf7",
   "metadata": {},
   "outputs": [
    {
     "name": "stdout",
     "output_type": "stream",
     "text": [
      "[5 7 9]\n",
      "[ 4 10 18]\n",
      "[2 4 6]\n"
     ]
    }
   ],
   "source": [
    "#Arithmetic\n",
    "a = np.array([1,2,3])\n",
    "b = np.array([4,5,6])\n",
    "\n",
    "print(a+b)\n",
    "print(a*b)\n",
    "print(a*2)#scalar operations"
   ]
  },
  {
   "cell_type": "code",
   "execution_count": 63,
   "id": "11a6472a-9ad1-41ce-adae-ce4afceb4265",
   "metadata": {},
   "outputs": [
    {
     "name": "stdout",
     "output_type": "stream",
     "text": [
      "[[19 22]\n",
      " [43 50]]\n",
      "[[19 22]\n",
      " [43 50]]\n"
     ]
    }
   ],
   "source": [
    "#matrix operations\n",
    "mat1 = np.array([[1,2],[3,4]])\n",
    "mat2 = np.array([[5,6],[7,8]])\n",
    "res = np.dot(mat1,mat2)\n",
    "print(res)\n",
    "c = mat1@mat2\n",
    "print(res)"
   ]
  },
  {
   "cell_type": "markdown",
   "id": "7f2a5911-8581-42da-a30a-4dc92523c458",
   "metadata": {},
   "source": [
    "**BROADCASTING**\n",
    "Broadcasting is NumPy’s way of automatically expanding arrays of different shapes so that arithmetic operations work without errors."
   ]
  },
  {
   "cell_type": "code",
   "execution_count": 64,
   "id": "8357d54c-5b22-4f6b-8344-41bcbb63707e",
   "metadata": {},
   "outputs": [
    {
     "name": "stdout",
     "output_type": "stream",
     "text": [
      "[11 12 13]\n"
     ]
    }
   ],
   "source": [
    "arr = np.array([1, 2, 3])\n",
    "scalar = 10\n",
    "print(arr + scalar) "
   ]
  },
  {
   "cell_type": "code",
   "execution_count": 65,
   "id": "86fb18fe-455e-450f-90e0-b120295216f6",
   "metadata": {},
   "outputs": [
    {
     "name": "stdout",
     "output_type": "stream",
     "text": [
      "[[11 21 31]\n",
      " [12 22 32]\n",
      " [13 23 33]]\n"
     ]
    }
   ],
   "source": [
    "a = np.array([[1], [2], [3]])  \n",
    "b = np.array([10, 20, 30])     \n",
    "print(a + b)"
   ]
  },
  {
   "cell_type": "markdown",
   "id": "2b2ba8b8-9bf5-4445-bed3-e458ab8cd6c9",
   "metadata": {},
   "source": [
    "**UNIVERSAL FUNCTIONS**"
   ]
  },
  {
   "cell_type": "code",
   "execution_count": 68,
   "id": "3395fc0c-275d-4702-b212-eca8efd1ad6d",
   "metadata": {},
   "outputs": [
    {
     "name": "stdout",
     "output_type": "stream",
     "text": [
      "Square root: [1. 2. 3. 4.]\n",
      "Exponential: [2.71828183e+00 5.45981500e+01 8.10308393e+03 8.88611052e+06]\n",
      "Logarithm: [0.         1.38629436 2.19722458 2.77258872]\n",
      "Absolute: [1 5 3]\n",
      "Sine: [ 0.84147098 -0.7568025   0.41211849 -0.28790332]\n"
     ]
    }
   ],
   "source": [
    "arr = np.array([1, 4, 9, 16])\n",
    "\n",
    "# Square root\n",
    "print(\"Square root:\", np.sqrt(arr))  \n",
    "\n",
    "# Exponential\n",
    "print(\"Exponential:\", np.exp(arr))  \n",
    "\n",
    "# Natural log\n",
    "print(\"Logarithm:\", np.log(arr))  \n",
    "\n",
    "# Absolute value\n",
    "arr2 = np.array([-1, -5, 3])\n",
    "print(\"Absolute:\", np.abs(arr2))  \n",
    "\n",
    "# Sine function\n",
    "print(\"Sine:\", np.sin(arr))  \n"
   ]
  },
  {
   "cell_type": "markdown",
   "id": "00c7a961-b400-4afb-be42-bc97babb964a",
   "metadata": {},
   "source": [
    "#### **AGGREGARE FUNCTIONS**"
   ]
  },
  {
   "cell_type": "code",
   "execution_count": 14,
   "id": "406055ab-2901-4317-9da0-d682c26c21c0",
   "metadata": {},
   "outputs": [
    {
     "name": "stdout",
     "output_type": "stream",
     "text": [
      "Sum: 15\n",
      "Mean: 3.0\n",
      "Max: 5\n",
      "Min: 1\n",
      "Standard Deviation: 1.4142135623730951\n",
      "Variance: 2.0\n",
      "Product: 120\n",
      "Index of Max: 4\n",
      "Index of Min: 0\n"
     ]
    }
   ],
   "source": [
    "arr = np.array([1, 2, 3, 4, 5])\n",
    "print(\"Sum:\", np.sum(arr))       \n",
    "print(\"Mean:\", np.mean(arr))     \n",
    "print(\"Max:\", np.max(arr))      \n",
    "print(\"Min:\", np.min(arr))    \n",
    "print(\"Standard Deviation:\", np.std(arr))  \n",
    "print(\"Variance:\", np.var(arr))  \n",
    "print(\"Product:\", np.prod(arr)) \n",
    "print(\"Index of Max:\", np.argmax(arr))\n",
    "print(\"Index of Min:\", np.argmin(arr))"
   ]
  },
  {
   "cell_type": "markdown",
   "id": "a5b1c257-896a-40fe-80f2-040c8c212b35",
   "metadata": {},
   "source": [
    "# **TASK-3**\n",
    "You are a **data engineer** at a renewable-energy company that runs 3 solar farms.<br>\n",
    "Each farm has 4 solar panels, and each panel reports hourly energy production (kWh) for 3 hours during a test window.<br>\n",
    "**Given data (raw)**<br>\n",
    "Create arrays from these values:<br>\n",
    "production — shape (3 farms × 4 panels × 3 hours) represented as a 2D array per farm (you can stack/create as shown in tasks).<br>\n",
    "Farm A panels (rows = panels, cols = hours):<br>\n",
    " ![Alt Text](image.png)<br>\n",
    "**TASKS**<br>\n",
    "**1.Create arrays**<br>\n",
    "Create three 2D NumPy arrays farmA, farmB, farmC (each shape (4,3)).<br>\n",
    "Stack them into a single 3D array production_all of shape (3, 4, 3).<br>\n",
    "**2.Array attributes**<br>\n",
    "Print the .shape, .size, .dtype, and .ndim of production_all.<br>\n",
    "**3.Per-farm totals (arithmetic & aggregation)**<br>\n",
    "Use aggregation ufuncs to compute the total energy per farm (sum across panels & hours) → total_per_farm (shape (3,)).<br>\n",
    "Compute mean, std, and var per farm.<br>\n",
    "**4.Per-hour matrix multiplication idea (matrix op)**<br>\n",
    "For a quick weighted estimate, create a hour_weights row vector of shape (3,) = [0.5, 1.0, 0.75] (weights for hour1, hour2, hour3).<br>\n",
    "Compute weighted_per_panel by performing a dot product between each farm's panel-row and hour_weights to get per-panel weighted energy. (Use np.dot / matrix multiplication appropriately.)<br>\n",
    "**5.Broadcasting adjustments**<br>\n",
    "The operator notices a fixed calibration offset of +0.5 kWh for all panels in Farm B. Use broadcasting to add this offset to Farm B data inside production_all (without recreating whole array manually).<br>\n",
    "**6.Element-wise arithmetic (ufuncs: add/sub/mul/div/power/mod)**<br>\n",
    "Compute a normalized version where you:<br>\n",
    "subtract the per-farm mean (use broadcasting),<br>\n",
    "divide by the per-farm std (broadcasting) — i.e., z-score normalize each farm's panel-hour readings.<br>\n",
    "**7.Apply many ufuncs (use the ufuncs listed previously)**<br>\n",
    "Apply the following element-wise operations (create variables for each) on the normalized data (or a copy) and show the resulting arrays (or summaries — shape/dtype/first row) where appropriate:<br>\n",
    "**Exponential family:** np.exp, np.expm1, np.log (note: handle non-positive inputs if needed), np.log10, np.log2.<br>\n",
    "**Trigonometric:** np.sin, np.cos, np.tan, np.arcsin, np.arccos, np.arctan, plus np.degrees, np.radians applied appropriately.<br>\n",
    "**Rounding:** np.round, np.floor, np.ceil, np.trunc.<br>\n",
    "**Comparison&logical ufuncs:** create a boolean mask high_output = production_all > 20 and apply np.logical_and, np.logical_or, np.logical_not, np.logical_xor combining masks (e.g., high_output and even_hours_mask). Also use comparison ufuncs like np.greater_equal, np.less.<br>\n",
    "**Bitwise ufuncs (on integer arrays)** create an integer array alerts = np.array([[1,0,1],[0,0,1],[1,1,0],[0,1,0]]) for each farm (shape match required) — then apply np.bitwise_and, np.bitwise_or, np.invert where sensible.<br>\n",
    "**Arithmetic ufuncs again:** np.add, np.subtract, np.multiply, np.divide, np.power, np.mod.<br>\n",
    "**Aggregations over ufunc outputs:** e.g., np.sum(np.exp(...)), np.mean(np.sin(...)).<br>\n",
    "**8.Broadcast-based summary table**<br>\n",
    "Use broadcasting to compute a (3,4) array panel_totals_per_farm = total per panel (sum across hours for each panel), and then compute a (3,) boolean <br>needs_maintenance saying True if any panel in that farm has total < 40. Use np.min, np.max, np.any, np.all.<br>\n",
    "**9.Final KPIs (aggregation)**<br>\n",
    "Compute:\n",
    "overall_total (sum of all farms),<br>\n",
    "peak_hour value (max across hours) and which farm & panel produced it (use np.argmax with careful unraveling),<br>\n",
    "average_per_panel across all farms.\n"
   ]
  },
  {
   "cell_type": "code",
   "execution_count": 5,
   "id": "dd78681f-2013-44d3-806c-391fe70d2739",
   "metadata": {},
   "outputs": [],
   "source": [
    "farmA = np.array([\n",
    "    [10, 12, 11],\n",
    "    [14, 15, 13],\n",
    "    [9, 10, 8],\n",
    "    [11, 12, 10]\n",
    "])\n",
    "\n",
    "farmB = np.array([\n",
    "    [8, 9, 7],\n",
    "    [12, 13, 11],\n",
    "    [10, 11, 12],\n",
    "    [9, 10, 8]\n",
    "])\n",
    "\n",
    "farmC = np.array([\n",
    "    [15, 14, 16],\n",
    "    [13, 12, 14],\n",
    "    [11, 12, 13],\n",
    "    [12, 13, 11]\n",
    "])"
   ]
  },
  {
   "cell_type": "code",
   "execution_count": 6,
   "id": "445f750a-30fc-4df7-a3c6-63b546e43f00",
   "metadata": {},
   "outputs": [
    {
     "name": "stdout",
     "output_type": "stream",
     "text": [
      "Shape: (3, 4, 3)\n",
      "Size: 36\n",
      "Dtype: int64\n",
      "Dimensions: 3\n"
     ]
    }
   ],
   "source": [
    "production_all = np.stack([farmA,farmB,farmC],axis=0)\n",
    "print(\"Shape:\", production_all.shape)\n",
    "print(\"Size:\", production_all.size)\n",
    "print(\"Dtype:\", production_all.dtype)\n",
    "print(\"Dimensions:\", production_all.ndim)"
   ]
  },
  {
   "cell_type": "code",
   "execution_count": 7,
   "id": "842c2cdb-59d9-4342-889b-b455b2a3d532",
   "metadata": {},
   "outputs": [
    {
     "name": "stdout",
     "output_type": "stream",
     "text": [
      "Total per farm: [135 120 156]\n",
      "Mean per farm: [135 120 156]\n",
      "Std per farm: [1.96320316 1.77951304 1.47196014]\n",
      "Var per farm: [3.85416667 3.16666667 2.16666667]\n"
     ]
    }
   ],
   "source": [
    "total_per_farm = np.sum(production_all,axis=(1,2))\n",
    "mean_per_farm = np.sum(production_all,axis=(1,2))\n",
    "std_per_farm = np.std(production_all,axis=(1,2))\n",
    "var_per_farm = np.var(production_all,axis=(1,2))\n",
    "\n",
    "print(\"Total per farm:\",total_per_farm)\n",
    "print(\"Mean per farm:\",mean_per_farm)\n",
    "print(\"Std per farm:\",std_per_farm)\n",
    "print(\"Var per farm:\",var_per_farm)"
   ]
  },
  {
   "cell_type": "code",
   "execution_count": 8,
   "id": "7bdc4a34-c9f5-49b0-992d-2218ff9e0d41",
   "metadata": {},
   "outputs": [
    {
     "name": "stdout",
     "output_type": "stream",
     "text": [
      "Weighted per panel:\n",
      " [[25.25 31.75 20.5  25.  ]\n",
      " [18.25 27.25 25.   20.5 ]\n",
      " [33.5  29.   27.25 27.25]]\n"
     ]
    }
   ],
   "source": [
    "hour_weights = np.array( [0.5, 1.0, 0.75])\n",
    "weighted_per_panel = np.dot(production_all,hour_weights)\n",
    "print(\"Weighted per panel:\\n\", weighted_per_panel)"
   ]
  },
  {
   "cell_type": "code",
   "execution_count": 9,
   "id": "5c1f6b59-eb80-4129-a6b7-0acb11d86d80",
   "metadata": {},
   "outputs": [
    {
     "name": "stdout",
     "output_type": "stream",
     "text": [
      "After calibration Farm B:\n",
      " [[ 8  9  7]\n",
      " [12 13 11]\n",
      " [10 11 12]\n",
      " [ 9 10  8]]\n"
     ]
    }
   ],
   "source": [
    "production_all[1] =production_all[1]+0.5\n",
    "print(\"After calibration Farm B:\\n\", production_all[1])"
   ]
  },
  {
   "cell_type": "code",
   "execution_count": 10,
   "id": "7682c837-1857-40b2-824a-1730089fa8a1",
   "metadata": {},
   "outputs": [
    {
     "name": "stdout",
     "output_type": "stream",
     "text": [
      "Normalized shape: (3, 4, 3)\n"
     ]
    }
   ],
   "source": [
    "mean_farm = production_all.mean(axis=(1,2), keepdims=True)\n",
    "std_farm = production_all.std(axis=(1,2), keepdims=True)\n",
    "normalized = (production_all - mean_farm) / std_farm\n",
    "print(\"Normalized shape:\", normalized.shape)"
   ]
  },
  {
   "cell_type": "code",
   "execution_count": 15,
   "id": "0c468b81-e27d-4dd3-a1d8-b38fbeb80d60",
   "metadata": {},
   "outputs": [],
   "source": [
    "exp_vals = np.exp(normalized)\n",
    "expm1_vals = np.expm1(normalized)\n",
    "log_vals = np.log(normalized - normalized.min() + 1e-5)  \n",
    "log10_vals = np.log10(normalized - normalized.min() + 1e-5)\n",
    "log2_vals = np.log2(normalized - normalized.min() + 1e-5)"
   ]
  },
  {
   "cell_type": "code",
   "execution_count": 18,
   "id": "b15676ef-e22a-4f2d-9df0-1b932567dda7",
   "metadata": {},
   "outputs": [
    {
     "name": "stdout",
     "output_type": "stream",
     "text": [
      "Panel totals per farm:\n",
      " [[33 42 27 33]\n",
      " [24 36 33 27]\n",
      " [45 39 36 36]]\n",
      "Needs maintenance: [ True  True  True]\n",
      "Overall total energy: 411\n",
      "Peak hour: 16 kWh at farm 2, panel 0, hour 2\n",
      "Average per panel:\n",
      " [[11. 14.  9. 11.]\n",
      " [ 8. 12. 11.  9.]\n",
      " [15. 13. 12. 12.]]\n"
     ]
    }
   ],
   "source": [
    "import numpy as np\n",
    "# Exponential\n",
    "exp_vals = np.exp(normalized)\n",
    "expm1_vals = np.expm1(normalized)\n",
    "log_vals = np.log(normalized - normalized.min() + 1e-5)  # shift to positive\n",
    "log10_vals = np.log10(normalized - normalized.min() + 1e-5)\n",
    "log2_vals = np.log2(normalized - normalized.min() + 1e-5)\n",
    "\n",
    "# Trig\n",
    "sin_vals = np.sin(normalized)\n",
    "cos_vals = np.cos(normalized)\n",
    "tan_vals = np.tan(normalized)\n",
    "arcsin_vals = np.arcsin(np.clip(normalized, -1, 1))\n",
    "arccos_vals = np.arccos(np.clip(normalized, -1, 1))\n",
    "arctan_vals = np.arctan(normalized)\n",
    "degrees_vals = np.degrees(normalized)\n",
    "radians_vals = np.radians(normalized)\n",
    "\n",
    "# Rounding\n",
    "round_vals = np.round(normalized, 2)\n",
    "floor_vals = np.floor(normalized)\n",
    "ceil_vals = np.ceil(normalized)\n",
    "trunc_vals = np.trunc(normalized)\n",
    "\n",
    "# Comparison & logical\n",
    "high_output = production_all > 20\n",
    "even_hours_mask = np.array([True, False, True])\n",
    "high_and_even = np.logical_and(high_output, even_hours_mask)\n",
    "high_or_even = np.logical_or(high_output, even_hours_mask)\n",
    "high_not = np.logical_not(high_output)\n",
    "high_xor = np.logical_xor(high_output, even_hours_mask)\n",
    "\n",
    "# Bitwise (example on integer array)\n",
    "alerts = np.array([\n",
    "    [[1,0,1],[0,0,1],[1,1,0],[0,1,0]],\n",
    "    [[1,0,1],[0,0,1],[1,1,0],[0,1,0]],\n",
    "    [[1,0,1],[0,0,1],[1,1,0],[0,1,0]]\n",
    "])\n",
    "bit_and = np.bitwise_and(alerts, 1)\n",
    "bit_or = np.bitwise_or(alerts, 1)\n",
    "bit_invert = np.bitwise_not(alerts)\n",
    "\n",
    "# Arithmetic ufuncs\n",
    "add_vals = np.add(normalized, 2)\n",
    "sub_vals = np.subtract(normalized, 1)\n",
    "mul_vals = np.multiply(normalized, 3)\n",
    "div_vals = np.divide(normalized, 2)\n",
    "pow_vals = np.power(normalized, 2)\n",
    "mod_vals = np.mod(normalized, 1)\n",
    "\n",
    "panel_totals_per_farm = np.sum(production_all, axis=2)  \n",
    "needs_maintenance = np.any(panel_totals_per_farm < 40, axis=1)  \n",
    "print(\"Panel totals per farm:\\n\", panel_totals_per_farm)\n",
    "print(\"Needs maintenance:\", needs_maintenance)\n",
    "\n",
    "overall_total = np.sum(production_all)\n",
    "peak_hour_idx = np.argmax(production_all)\n",
    "peak_farm, peak_panel, peak_hour = np.unravel_index(peak_hour_idx, production_all.shape)\n",
    "peak_value = production_all[peak_farm, peak_panel, peak_hour]\n",
    "average_per_panel = np.mean(production_all, axis=2)  \n",
    "\n",
    "print(\"Overall total energy:\", overall_total)\n",
    "print(f\"Peak hour: {peak_value} kWh at farm {peak_farm}, panel {peak_panel}, hour {peak_hour}\")\n",
    "print(\"Average per panel:\\n\", average_per_panel)\n"
   ]
  },
  {
   "cell_type": "markdown",
   "id": "f5339d5d-6ce7-4c4e-ab8d-bcce3ecd5579",
   "metadata": {},
   "source": [
    "**Reshaping Arrays**"
   ]
  },
  {
   "cell_type": "code",
   "execution_count": 22,
   "id": "39bace98-a056-404f-814a-58aafe7e7c4e",
   "metadata": {},
   "outputs": [
    {
     "name": "stdout",
     "output_type": "stream",
     "text": [
      "[1 2 3 4 5 6]\n",
      "(6,)\n",
      "[[1 2 3]\n",
      " [4 5 6]]\n",
      "(6,)\n"
     ]
    }
   ],
   "source": [
    "arr = np.array([1,2,3,4,5,6])\n",
    "\n",
    "print(arr)\n",
    "print(arr.shape)\n",
    "reshaped = arr.reshape(2,3)\n",
    "print(reshaped)\n",
    "print(arr.shape)"
   ]
  },
  {
   "cell_type": "markdown",
   "id": "7d8c8146-0ada-4ab5-80ca-4266d9c72fd7",
   "metadata": {},
   "source": [
    "**Stacking and Splitting**"
   ]
  },
  {
   "cell_type": "code",
   "execution_count": 26,
   "id": "b5a6dc2d-fd12-410b-95bf-69b5d4c70663",
   "metadata": {},
   "outputs": [
    {
     "name": "stdout",
     "output_type": "stream",
     "text": [
      "[[1 2]\n",
      " [3 4]]\n",
      "[1 2 3 4]\n"
     ]
    }
   ],
   "source": [
    "a = np.array([1,2])\n",
    "b = np.array([3,4])\n",
    "print(np.vstack((a,b)))\n",
    "print(np.hstack((a,b)))"
   ]
  },
  {
   "cell_type": "code",
   "execution_count": 29,
   "id": "6cc45e13-ef0b-4349-a1d9-dd9736bdaaa7",
   "metadata": {},
   "outputs": [
    {
     "name": "stdout",
     "output_type": "stream",
     "text": [
      "[array([1, 2, 3]), array([4, 5, 6]), array([7, 9])]\n",
      "[array([1, 2, 3, 4]), array([5, 6, 7, 9])]\n"
     ]
    }
   ],
   "source": [
    "arr = np.array([1,2,3,4,5,6,7,9])\n",
    "print(np.array_split(arr,3))\n",
    "print(np.array_split(arr,2))"
   ]
  },
  {
   "cell_type": "markdown",
   "id": "13a7681d-cbff-41e8-b3ba-bc7249313917",
   "metadata": {},
   "source": [
    "**Advanced Indexing**"
   ]
  },
  {
   "cell_type": "code",
   "execution_count": 31,
   "id": "ad261ab4-17ca-4c3b-a7e2-eff19f030ae9",
   "metadata": {},
   "outputs": [
    {
     "name": "stdout",
     "output_type": "stream",
     "text": [
      "[1 2]\n",
      "[4 5]\n"
     ]
    }
   ],
   "source": [
    "arr = np.array([1,2,3,4,5])\n",
    "print(arr[arr<3])\n",
    "print(arr[arr>3])"
   ]
  },
  {
   "cell_type": "code",
   "execution_count": 33,
   "id": "0b377523-05a8-4680-a330-b9f321fbc3da",
   "metadata": {},
   "outputs": [
    {
     "name": "stdout",
     "output_type": "stream",
     "text": [
      "[2 5]\n"
     ]
    }
   ],
   "source": [
    "indices=[1,4]\n",
    "print(arr[indices])"
   ]
  },
  {
   "cell_type": "markdown",
   "id": "d507b56e-0a53-489e-a0aa-daaac05929c8",
   "metadata": {},
   "source": [
    "**COPY vs VIEW**"
   ]
  },
  {
   "cell_type": "code",
   "execution_count": 34,
   "id": "5d95be1c-5016-464d-b218-a805200ba8c6",
   "metadata": {},
   "outputs": [
    {
     "name": "stdout",
     "output_type": "stream",
     "text": [
      "[10  2  3]\n"
     ]
    }
   ],
   "source": [
    "#View shares memory\n",
    "arr = np.array([1,2,3])\n",
    "view = arr.view()\n",
    "view[0] = 10\n",
    "print(arr)"
   ]
  },
  {
   "cell_type": "code",
   "execution_count": 35,
   "id": "12673367-6b3b-40d3-84cc-01faffff6607",
   "metadata": {},
   "outputs": [
    {
     "name": "stdout",
     "output_type": "stream",
     "text": [
      "[10  2  3]\n"
     ]
    }
   ],
   "source": [
    "#copy does not share memory\n",
    "copy = arr.copy()\n",
    "copy[0] = 10\n",
    "print(arr)"
   ]
  },
  {
   "cell_type": "markdown",
   "id": "29681817-892f-405e-8258-0da9d236603f",
   "metadata": {},
   "source": [
    "**Saving and Loading**\n"
   ]
  },
  {
   "cell_type": "code",
   "execution_count": 36,
   "id": "acac63bd-91aa-4aaf-851a-2a5c273e4c07",
   "metadata": {},
   "outputs": [],
   "source": [
    "np.save('array.npy',arr)"
   ]
  },
  {
   "cell_type": "code",
   "execution_count": 38,
   "id": "3ed61932-48d7-4ced-af3e-7e433be30763",
   "metadata": {},
   "outputs": [
    {
     "name": "stdout",
     "output_type": "stream",
     "text": [
      "[10  2  3]\n"
     ]
    }
   ],
   "source": [
    "loaded_arr = np.load('array.npy')\n",
    "print(loaded_arr)"
   ]
  },
  {
   "cell_type": "markdown",
   "id": "e6f534a3-bf82-4fc5-9dea-a83d5b5b3b41",
   "metadata": {},
   "source": [
    "# Task-4\n",
    "**1.Array Creation** <br>\n",
    "\n",
    "<ul>Create a 1D array of numbers from 10 to 50.</ul>\n",
    "<ul>Create a 3x3 array of random numbers between 0 and 1.</ul>\n",
    "\n",
    "**2.Array Attributes**<br>\n",
    "Find the shape, size, and data type of the array you created in the previous task.<br>\n",
    "**3.Basic Operations**<br>\n",
    "Add 5 to every element of a 1D array.<br>\n",
    "Multiply two 2D arrays element-wise.<br>\n",
    "**4.Indexing and Slicing**<br>\n",
    "Create a 5x5 array of integers from 1 to 25. Extract:<br>\n",
    "The first row.<br>\n",
    "The last column.<br>\n",
    "A subarray of the first three rows and first two columns.<br>\n",
    "**5.Aggregation**<br>\n",
    "Create a 10-element array of random integers between 10 and 100. Find:<br>\n",
    "The maximum value.<br>\n",
    "The minimum value.<br>\n",
    "The mean and standard deviation.<br>\n",
    "**6.Reshaping**<br>\n",
    "Convert a 1D array of numbers from 1 to 12 into a 3x4 matrix.<br>\n",
    "**7.Broadcasting**<br>\n",
    "Create a 3x3 matrix of ones. Add a 1D array [1, 2, 3] to each row.<br>\n",
    "**8.Filtering**<br>\n",
    "Create a 1D array of random integers between 1 and 50. Extract all elements that are divisible by 5.<br>\n",
    "**9.Matrix Multiplication**<br>\n",
    "Create two 2x2 matrices and perform matrix multiplication.<br>\n",
    "**10.Advanced Indexing**<br>\n",
    "Given a 4x4 array, use fancy indexing to extract the diagonal elements.<br>"
   ]
  },
  {
   "cell_type": "code",
   "execution_count": 42,
   "id": "89a67579-6724-4402-84a0-36208d83f6ae",
   "metadata": {},
   "outputs": [
    {
     "name": "stdout",
     "output_type": "stream",
     "text": [
      "1D Array: [10 11 12 13 14 15 16 17 18 19 20 21 22 23 24 25 26 27 28 29 30 31 32 33\n",
      " 34 35 36 37 38 39 40 41 42 43 44 45 46 47 48 49 50]\n",
      "[[0.50575286 0.74279319 0.74861576]\n",
      " [0.42553719 0.68370257 0.4815798 ]\n",
      " [0.43885799 0.47638409 0.1734543 ]]\n"
     ]
    }
   ],
   "source": [
    "arr_1d = np.arange(10, 51)\n",
    "print(\"1D Array:\", arr_1d)\n",
    "arr = np.random.rand(3,3)\n",
    "print(arr_1)"
   ]
  },
  {
   "cell_type": "code",
   "execution_count": 46,
   "id": "1fce5ba4-acff-4453-8d33-2458f3bf96d8",
   "metadata": {},
   "outputs": [
    {
     "name": "stdout",
     "output_type": "stream",
     "text": [
      "shape of array:  (3, 3)\n",
      "size of array:  9\n",
      "datatype of array:  float64\n"
     ]
    }
   ],
   "source": [
    "print(\"shape of array: \",arr.shape)\n",
    "print(\"size of array: \",arr.size)\n",
    "print(\"datatype of array: \",arr.dtype)"
   ]
  },
  {
   "cell_type": "code",
   "execution_count": 50,
   "id": "d4284b56-e1e0-4a61-aa93-b7db6e0df806",
   "metadata": {},
   "outputs": [
    {
     "name": "stdout",
     "output_type": "stream",
     "text": [
      "[30 31 32 33 34 35 36 37 38 39 40 41 42 43 44 45 46 47 48 49 50 51 52 53\n",
      " 54 55 56 57 58 59 60 61 62 63 64 65 66 67 68 69 70]\n",
      "[[ 5 12]\n",
      " [21 32]]\n"
     ]
    }
   ],
   "source": [
    "arr_1d = arr_1d + 5\n",
    "print(arr_1d)\n",
    "\n",
    "arr_2d_1 = np.array([\n",
    "    [1,2],\n",
    "    [3,4]])\n",
    "arr_2d_2 = np.array([\n",
    "    [5,6],\n",
    "    [7,8]])\n",
    "print(arr_2d_1 * arr_2d_2)"
   ]
  },
  {
   "cell_type": "code",
   "execution_count": 58,
   "id": "07713821-102e-4992-933e-372e81cafa55",
   "metadata": {},
   "outputs": [
    {
     "name": "stdout",
     "output_type": "stream",
     "text": [
      "5x5 array :  [[ 1  2  3  4  5]\n",
      " [ 6  7  8  9 10]\n",
      " [11 12 13 14 15]\n",
      " [16 17 18 19 20]\n",
      " [21 22 23 24 25]]\n",
      "first row:  [1 2 3 4 5]\n",
      "last column:  [ 5 10 15 20 25]\n",
      "sub array of first 3 rows and last 2 columns:  [[ 1  2]\n",
      " [ 6  7]\n",
      " [11 12]]\n"
     ]
    }
   ],
   "source": [
    "arr_55 = np.arange(1,26).reshape(5,5)\n",
    "print(\"5x5 array : \",arr_55)\n",
    "#first row\n",
    "print(\"first row: \",arr_55[0])\n",
    "print(\"last column: \",arr_55[:,4])\n",
    "print(\"sub array of first 3 rows and last 2 columns: \",arr_55[:3,:2])"
   ]
  },
  {
   "cell_type": "code",
   "execution_count": 64,
   "id": "f834ea1b-576f-4c53-a516-97a12f8ca2de",
   "metadata": {},
   "outputs": [
    {
     "name": "stdout",
     "output_type": "stream",
     "text": [
      "[44 53 90 17 21 17 10 67 79 34]\n",
      "Max element:  90\n",
      "Min element:  10\n",
      "Mean:  43.2\n",
      "Standard Deviation:  26.809699737221973\n"
     ]
    }
   ],
   "source": [
    "arr_rand = np.random.randint(1,101,10)\n",
    "print(arr_rand)\n",
    "print(\"Max element: \",arr_rand.max())\n",
    "print(\"Min element: \",arr_rand.min())\n",
    "print(\"Mean: \",arr_rand.mean())\n",
    "print(\"Standard Deviation: \",arr_rand.std())"
   ]
  },
  {
   "cell_type": "code",
   "execution_count": 66,
   "id": "a85a6164-3b7e-4568-ac26-7a425697f348",
   "metadata": {},
   "outputs": [
    {
     "name": "stdout",
     "output_type": "stream",
     "text": [
      "[[ 1  2  3  4]\n",
      " [ 5  6  7  8]\n",
      " [ 9 10 11 12]]\n"
     ]
    }
   ],
   "source": [
    "arr_1to12 = np.arange(1,13).reshape(3,4)\n",
    "print(arr_1to12)"
   ]
  },
  {
   "cell_type": "code",
   "execution_count": 70,
   "id": "323cf948-aca4-4b10-ab50-080d13bcfc00",
   "metadata": {},
   "outputs": [
    {
     "name": "stdout",
     "output_type": "stream",
     "text": [
      "[[1 1 1]\n",
      " [1 1 1]\n",
      " [1 1 1]]\n",
      "[[2 3 4]\n",
      " [2 3 4]\n",
      " [2 3 4]]\n"
     ]
    }
   ],
   "source": [
    "ones_mat = np.ones((3,3),dtype=int)\n",
    "arr=np.array([1,2,3])\n",
    "print(ones_mat)\n",
    "print(arr+ones_mat)"
   ]
  },
  {
   "cell_type": "code",
   "execution_count": 71,
   "id": "525857af-aaa6-4244-9354-ab9efb593715",
   "metadata": {},
   "outputs": [
    {
     "name": "stdout",
     "output_type": "stream",
     "text": [
      "[28 13  2 18 25 20 40 47 33 20]\n",
      "divisible by 5:  [25 20 40 20]\n"
     ]
    }
   ],
   "source": [
    "arr_rand = np.random.randint(1,51,10)\n",
    "print(arr_rand)\n",
    "print(\"divisible by 5: \",arr_rand[arr_rand%5==0])"
   ]
  },
  {
   "cell_type": "code",
   "execution_count": 73,
   "id": "8d89cf78-07b1-4859-935c-c4ec37c552e2",
   "metadata": {},
   "outputs": [
    {
     "name": "stdout",
     "output_type": "stream",
     "text": [
      "product is:  [[19 22]\n",
      " [43 50]]\n"
     ]
    }
   ],
   "source": [
    "mat1 = np.array([\n",
    "    [1,2],\n",
    "    [3,4]])\n",
    "mat2 = np.array([\n",
    "    [5,6],\n",
    "    [7,8]])\n",
    "prod = np.dot(mat1,mat2)\n",
    "print(\"product is: \",prod)"
   ]
  },
  {
   "cell_type": "code",
   "execution_count": 1,
   "id": "e177fb76-9a72-4f13-bc63-3b6d80345dc5",
   "metadata": {},
   "outputs": [
    {
     "ename": "NameError",
     "evalue": "name 'np' is not defined",
     "output_type": "error",
     "traceback": [
      "\u001b[1;31m---------------------------------------------------------------------------\u001b[0m",
      "\u001b[1;31mNameError\u001b[0m                                 Traceback (most recent call last)",
      "Cell \u001b[1;32mIn[1], line 1\u001b[0m\n\u001b[1;32m----> 1\u001b[0m arr_4x4 \u001b[38;5;241m=\u001b[39m np\u001b[38;5;241m.\u001b[39marange(\u001b[38;5;241m1\u001b[39m,\u001b[38;5;241m17\u001b[39m)\u001b[38;5;241m.\u001b[39mreshape(\u001b[38;5;241m4\u001b[39m,\u001b[38;5;241m4\u001b[39m)\n\u001b[0;32m      2\u001b[0m \u001b[38;5;28mprint\u001b[39m(arr_4x4)\n\u001b[0;32m      3\u001b[0m diag_elements \u001b[38;5;241m=\u001b[39m arr_4x4[np\u001b[38;5;241m.\u001b[39marange(\u001b[38;5;241m4\u001b[39m), np\u001b[38;5;241m.\u001b[39marange(\u001b[38;5;241m4\u001b[39m)]\n",
      "\u001b[1;31mNameError\u001b[0m: name 'np' is not defined"
     ]
    }
   ],
   "source": [
    "arr_4x4 = np.arange(1,17).reshape(4,4)\n",
    "print(arr_4x4)\n",
    "diag_elements = arr_4x4[np.arange(4), np.arange(4)]\n",
    "print(\"\\nDiagonal Elements:\", diag_elements)"
   ]
  },
  {
   "cell_type": "code",
   "execution_count": null,
   "id": "e78f40a1-0624-4d48-b099-69859d59511c",
   "metadata": {},
   "outputs": [],
   "source": []
  }
 ],
 "metadata": {
  "kernelspec": {
   "display_name": "Python [conda env:base] *",
   "language": "python",
   "name": "conda-base-py"
  },
  "language_info": {
   "codemirror_mode": {
    "name": "ipython",
    "version": 3
   },
   "file_extension": ".py",
   "mimetype": "text/x-python",
   "name": "python",
   "nbconvert_exporter": "python",
   "pygments_lexer": "ipython3",
   "version": "3.13.5"
  }
 },
 "nbformat": 4,
 "nbformat_minor": 5
}
